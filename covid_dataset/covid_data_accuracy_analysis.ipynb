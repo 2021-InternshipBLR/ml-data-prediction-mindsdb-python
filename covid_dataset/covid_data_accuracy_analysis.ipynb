{
 "cells": [
  {
   "cell_type": "code",
   "execution_count": 4,
   "metadata": {},
   "outputs": [
    {
     "name": "stderr",
     "output_type": "stream",
     "text": [
      "C:\\Users\\Simran\\anaconda3\\lib\\site-packages\\gensim\\similarities\\__init__.py:15: UserWarning: The gensim.similarities.levenshtein submodule is disabled, because the optional Levenshtein package <https://pypi.org/project/python-Levenshtein/> is unavailable. Install Levenhstein (e.g. `pip install python-Levenshtein`) to suppress this warning.\n",
      "  warnings.warn(msg)\n"
     ]
    },
    {
     "name": "stdout",
     "output_type": "stream",
     "text": [
      "S3 Datasource is not available by default. If you wish to use it, please install mindsdb_native[extra_data_sources]\n",
      "Microsoft SQL Server Datasource is not available by default. If you wish to use it, please install mindsdb_native[extra_data_sources]\n",
      "Athena Datasource is not available by default. If you wish to use it, please install mindsdb_native[extra_data_sources]\n",
      "Google Cloud Storage Datasource is not available by default. If you wish to use it, please install mindsdb_native[extra_data_sources]\n"
     ]
    },
    {
     "name": "stderr",
     "output_type": "stream",
     "text": [
      "\u001b[33mWARNING:mindsdb-logger-core-logger---:C:\\Users\\Simran\\anaconda3\\lib\\site-packages\\mindsdb_native\\libs\\helpers\\general_helpers.py:123 - There is a new version of MindsDB 2.43.0, please upgrade using:\n",
      "pip3 install mindsdb_native --upgrade\n",
      "\u001b[0m\n"
     ]
    }
   ],
   "source": [
    "from mindsdb_native import MySqlDS"
   ]
  },
  {
   "cell_type": "code",
   "execution_count": 5,
   "metadata": {},
   "outputs": [],
   "source": [
    "# mysql data source\n",
    "mysql_ds = MySqlDS(query=\"SELECT * FROM covid_flu_data\", user=\"root\", password=\"pass\", database=\"world\", port=3306)"
   ]
  },
  {
   "cell_type": "code",
   "execution_count": 6,
   "metadata": {},
   "outputs": [],
   "source": [
    "covid_data=mysql_ds[mysql_ds.columns[:20]]\n",
    "covid_target=mysql_ds[mysql_ds.columns[20]]"
   ]
  },
  {
   "cell_type": "code",
   "execution_count": 14,
   "metadata": {
    "scrolled": false
   },
   "outputs": [
    {
     "name": "stdout",
     "output_type": "stream",
     "text": [
      "average for KNN : 0.9199869528051469 and time taken: 16.352940785884858\n",
      "average for LogisticRegression : 0.9306789040356325 and time taken: 1.1481000781059265\n",
      "average for RandomForest : 0.9229608134251134 and time taken: 0.5642763376235962\n",
      "average for AdaBoostClassifier : 0.9280897107121969 and time taken: 0.688911247253418\n",
      "average for DecisionTreeClassifier : 0.9004858955324604 and time taken: 0.09877587556838989\n",
      "average for LinearSVC : 0.9266162775003373 and time taken: 0.35000953674316404\n",
      "average for MultinomialNB : 0.9241170648310613 and time taken: 0.12423809766769409\n"
     ]
    }
   ],
   "source": [
    "\"\"\"\"\n",
    "To-do\n",
    "[*] Add models for binary classification \n",
    "[*] Take multiple readings and compute the average result\n",
    "[*] Add time stats (Build time)\n",
    "[*] Create a table with model_name, predicition\n",
    "[*] Write a function to plot using matplotlib\n",
    "\"\"\"\n",
    "import mysql.connector\n",
    "import pandas as pd\n",
    "# Import the ML library\n",
    "from sklearn.model_selection import train_test_split\n",
    "from sklearn.linear_model import LogisticRegression,LogisticRegressionCV,PassiveAggressiveRegressor,LinearRegression,ARDRegression,HuberRegressor,ElasticNetCV,OrthogonalMatchingPursuit,ElasticNet,RidgeClassifier,RidgeCV,SGDClassifier,BayesianRidge, Perceptron,RANSACRegressor,LassoLars,Lasso,LassoCV,PassiveAggressiveClassifier\n",
    "from sklearn.metrics import balanced_accuracy_score,accuracy_score,mean_squared_error\n",
    "from sklearn.naive_bayes import MultinomialNB\n",
    "from sklearn.neighbors import KNeighborsClassifier\n",
    "from sklearn.svm import LinearSVC\n",
    "from sklearn.tree import DecisionTreeClassifier\n",
    "from sklearn.ensemble import BaggingClassifier,GradientBoostingClassifier,RandomForestClassifier,VotingClassifier,AdaBoostClassifier\n",
    "import numpy as np\n",
    "import time\n",
    "import matplotlib.pyplot as plt\n",
    "\n",
    "\n",
    "#function defs:\n",
    "def model_testing(model):\n",
    "    start = time.time()\n",
    "    #Split the data using test_train_split\n",
    "    x_train,x_test,y_train,y_test = train_test_split(covid_data,covid_target,test_size=0.5)\n",
    "    #Fit the model using the data which was splitted\n",
    "    model.fit(x_train,y_train)\n",
    "    #Print Score of the model\n",
    "    score = model.score(x_test,y_test)\n",
    "    stop = time.time()\n",
    "    timetaken = stop-start\n",
    "    return (score,timetaken)\n",
    "    #print(y_pred)\n",
    "    \n",
    "def plotGraph(keys, values, label, title):\n",
    "    names = keys\n",
    "    y_pos = np.arange(len(keys))\n",
    "    data = values\n",
    "    #plt.rcParams[\"figure.figsize\"] = (15,7)\n",
    "    plt.barh(y_pos, data, align='center', alpha=0.6)\n",
    "    plt.yticks(y_pos, names)\n",
    "    plt.xlabel(label)\n",
    "    plt.title(title)\n",
    "    plt.show()\n",
    "    \n",
    "\n",
    "alphas = [0.0001, 0.001, 0.01, 0.1, 0.3, 0.5, 0.7, 1]\n",
    "#get the models\n",
    "model_dict = {\n",
    "    #\"VotingClassifier\": VotingClassifier(estimators=[('mnb',MultinomialNB()),('lr',LogisticRegression(max_iter=1000)),('rf',RandomForestClassifier()),('svm',LinearSVC(max_iter=1000))],voting='hard'),\n",
    "    #\"RandomForest\": RandomForestClassifier(n_estimators=30, max_depth=9),\n",
    "    #\"AdaBoostClassifier\": AdaBoostClassifier(DecisionTreeClassifier(min_samples_split=10,max_depth=4),n_estimators=10,learning_rate=0.6),\n",
    "    #\"BaggingClassifier\": BaggingClassifier(DecisionTreeClassifier(),max_samples=0.5,max_features=1.0,n_estimators=10),\n",
    "    #\"DecisionTreeClassifier\" : DecisionTreeClassifier(),\n",
    "    #\"LinearSVC\" : LinearSVC(C=0.0001),\n",
    "    \"KNN\": KNeighborsClassifier(n_neighbors = 7),\n",
    "    \"LogisticRegression\": LogisticRegression(max_iter=1000),\n",
    "    \"RandomForest\": RandomForestClassifier(n_estimators=30, max_depth=9),\n",
    "    \"AdaBoostClassifier\": AdaBoostClassifier(DecisionTreeClassifier(min_samples_split=10,max_depth=4),n_estimators=10,learning_rate=0.6),\n",
    "    \"DecisionTreeClassifier\" : DecisionTreeClassifier(),\n",
    "    \"LinearSVC\" : LinearSVC(C = 1),\n",
    "    \"MultinomialNB\": MultinomialNB(),\n",
    "    #\"ARDRegression\": ARDRegression(),\n",
    "    #\"LogisticRegressionCV\": LogisticRegressionCV(n_jobs=-1,max_iter=1000),\n",
    "    #\"ElasticNetCV\": ElasticNetCV(alphas=alphas, cv=5),\n",
    "    #\"ElasticNet\": ElasticNet(alpha=0.01),\n",
    "    #\"BayesianRidge\": BayesianRidge(),\n",
    "    #\"RANSACRegressor\": RANSACRegressor(base_estimator = LinearRegression(),min_samples=10,residual_threshold=5, random_state=0),\n",
    "    #\"LassoLars\": LassoLars(alpha=0.1, fit_intercept=True,fit_path=False, max_iter=5000, normalize=True),\n",
    "    #\"RidgeClassifier\":RidgeClassifier(),\n",
    "    #\"RidgeCV\": RidgeCV(),\n",
    "    #\"Lasso\": Lasso(),\n",
    "    #\"LassoCV\": LassoCV(cv=5),\n",
    "    #\"PassiveAggressiveClassifier\": PassiveAggressiveClassifier(),\n",
    "    #\"HuberRegressor\": HuberRegressor(max_iter=2000),\n",
    "    #\"Perceptron\": Perceptron(),\n",
    "    #\"PassiveAggressiveRegressor\": PassiveAggressiveRegressor(C=1, fit_intercept=False,random_state=0, average=True, max_iter=100)\n",
    "}\n",
    "\n",
    "model_stats_score = {}\n",
    "model_stats_timetaken = {}\n",
    "for modelname in model_dict:\n",
    "    #print(modelname)\n",
    "    preds = []\n",
    "    timetaken = []\n",
    "    for i in range(0,20):\n",
    "        model = model_dict[modelname]\n",
    "        score,timeforfit=model_testing(model)\n",
    "        timetaken.append(timeforfit)\n",
    "        preds.append(score)\n",
    "    prediction_mean = (sum(preds)/len(preds))\n",
    "    model_stats_score[modelname] = prediction_mean\n",
    "    timetaken_mean =  (sum(timetaken)/len(timetaken))\n",
    "    model_stats_timetaken[modelname] = timetaken_mean\n",
    "    print(\"average for {} : {} and time taken: {}\".format(modelname,prediction_mean,timetaken_mean))\n"
   ]
  },
  {
   "cell_type": "code",
   "execution_count": 15,
   "metadata": {
    "scrolled": true
   },
   "outputs": [
    {
     "data": {
      "image/png": "[encoded data removed]",
      "text/plain": [
       "<Figure size 1080x504 with 1 Axes>"
      ]
     },
     "metadata": {
      "needs_background": "light"
     },
     "output_type": "display_data"
    }
   ],
   "source": [
    "plotGraph(model_stats_score.keys(), model_stats_score.values(), 'Scores', 'Model Score')"
   ]
  },
  {
   "cell_type": "code",
   "execution_count": 16,
   "metadata": {
    "scrolled": false
   },
   "outputs": [
    {
     "data": {
      "image/png": "[encoded data removed]",
      "text/plain": [
       "<Figure size 1080x504 with 1 Axes>"
      ]
     },
     "metadata": {
      "needs_background": "light"
     },
     "output_type": "display_data"
    }
   ],
   "source": [
    "plotGraph(model_stats_timetaken.keys(), model_stats_timetaken.values(), 'Time', 'Model Training Time')"
   ]
  },
  {
   "cell_type": "code",
   "execution_count": 17,
   "metadata": {},
   "outputs": [
    {
     "name": "stdout",
     "output_type": "stream",
     "text": [
      "| Model Name             |   Model Score |   Model Training Time |\n",
      "|------------------------|---------------|-----------------------|\n",
      "| KNN                    |      0.919987 |            16.3529    |\n",
      "| LogisticRegression     |      0.930679 |             1.1481    |\n",
      "| RandomForest           |      0.922961 |             0.564276  |\n",
      "| AdaBoostClassifier     |      0.92809  |             0.688911  |\n",
      "| DecisionTreeClassifier |      0.900486 |             0.0987759 |\n",
      "| LinearSVC              |      0.926616 |             0.35001   |\n"
     ]
    }
   ],
   "source": [
    "from tabulate import tabulate\n",
    "headers = ['Model Name','Model Score', 'Model Training Time']\n",
    "modelnames = list(model_stats_timetaken.keys())\n",
    "modeltimes = list(model_stats_timetaken.values())\n",
    "table = []\n",
    "modescores = list(model_stats_score.values())\n",
    "for i in range(0,len(modelnames)-1):\n",
    "    table.append ([modelnames[i],modescores[i],modeltimes[i]])\n",
    "print(tabulate(table, headers, tablefmt=\"github\"))"
   ]
  }
 ],
 "metadata": {
  "celltoolbar": "Raw Cell Format",
  "kernelspec": {
   "display_name": "Python 3",
   "language": "python",
   "name": "python3"
  },
  "language_info": {
   "codemirror_mode": {
    "name": "ipython",
    "version": 3
   },
   "file_extension": ".py",
   "mimetype": "text/x-python",
   "name": "python",
   "nbconvert_exporter": "python",
   "pygments_lexer": "ipython3",
   "version": "3.8.3"
  }
 },
 "nbformat": 4,
 "nbformat_minor": 4
}
