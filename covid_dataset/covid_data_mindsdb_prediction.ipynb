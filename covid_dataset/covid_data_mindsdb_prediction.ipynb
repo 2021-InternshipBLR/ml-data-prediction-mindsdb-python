{
 "cells": [
  {
   "cell_type": "code",
   "execution_count": 1,
   "metadata": {},
   "outputs": [],
   "source": [
    "import pandas as pd\n",
    "import numpy as np\n",
    "import matplotlib.pyplot as plt\n",
    "import seaborn as sns\n",
    "from sklearn.metrics import confusion_matrix,balanced_accuracy_score,accuracy_score,precision_score,f1_score,recall_score\n",
    "from sklearn.metrics import precision_recall_fscore_support as score"
   ]
  },
  {
   "cell_type": "code",
   "execution_count": 2,
   "metadata": {},
   "outputs": [
    {
     "name": "stdout",
     "output_type": "stream",
     "text": [
      "S3 Datasource is not available by default. If you wish to use it, please install mindsdb_native[extra_data_sources]\n",
      "Microsoft SQL Server Datasource is not available by default. If you wish to use it, please install mindsdb_native[extra_data_sources]\n",
      "Athena Datasource is not available by default. If you wish to use it, please install mindsdb_native[extra_data_sources]\n",
      "Google Cloud Storage Datasource is not available by default. If you wish to use it, please install mindsdb_native[extra_data_sources]\n"
     ]
    },
    {
     "name": "stderr",
     "output_type": "stream",
     "text": [
      "\u001b[37mDEBUG:mindsdb-logger-core-logger---:C:\\Users\\Simran\\anaconda3\\lib\\site-packages\\mindsdb_native\\libs\\helpers\\general_helpers.py:125 - MindsDB is up to date!\n",
      "\u001b[0m\n"
     ]
    }
   ],
   "source": [
    "from mindsdb_native import Predictor, MySqlDS"
   ]
  },
  {
   "cell_type": "code",
   "execution_count": 3,
   "metadata": {},
   "outputs": [],
   "source": [
    "mysql_ds = MySqlDS(query=\"SELECT * FROM covid_flu_data\", user=\"root\", password=\"pass\", database=\"world\", port=3306)"
   ]
  },
  {
   "cell_type": "markdown",
   "metadata": {},
   "source": [
    "### dividing mysql_ds into test & train randomly"
   ]
  },
  {
   "cell_type": "code",
   "execution_count": 4,
   "metadata": {},
   "outputs": [
    {
     "data": {
      "text/plain": [
       "(22226, 21)"
      ]
     },
     "execution_count": 4,
     "metadata": {},
     "output_type": "execute_result"
    }
   ],
   "source": [
    "train_data=mysql_ds.sample(frac=0.5)\n",
    "train_data.shape"
   ]
  },
  {
   "cell_type": "code",
   "execution_count": 5,
   "metadata": {},
   "outputs": [
    {
     "data": {
      "text/plain": [
       "(22227, 21)"
      ]
     },
     "execution_count": 5,
     "metadata": {},
     "output_type": "execute_result"
    }
   ],
   "source": [
    "test_data=mysql_ds.drop(train_data.index)\n",
    "test_data.shape"
   ]
  },
  {
   "cell_type": "code",
   "execution_count": 6,
   "metadata": {},
   "outputs": [
    {
     "name": "stderr",
     "output_type": "stream",
     "text": [
      "\u001b[37mDEBUG:mindsdb-logger-core-logger---:C:\\Users\\Simran\\anaconda3\\lib\\site-packages\\mindsdb_native\\libs\\helpers\\general_helpers.py:125 - MindsDB is up to date!\n",
      "\u001b[0m\n"
     ]
    }
   ],
   "source": [
    "mdb = Predictor(name='covid_predictor')"
   ]
  },
  {
   "cell_type": "markdown",
   "metadata": {},
   "source": [
    "### fitting the model"
   ]
  },
  {
   "cell_type": "code",
   "execution_count": null,
   "metadata": {},
   "outputs": [],
   "source": [
    "mdb.learn(from_data=train_data, to_predict='DIAGNOSE')"
   ]
  },
  {
   "cell_type": "markdown",
   "metadata": {},
   "source": [
    "### predicting the data"
   ]
  },
  {
   "cell_type": "code",
   "execution_count": 8,
   "metadata": {},
   "outputs": [
    {
     "name": "stderr",
     "output_type": "stream",
     "text": [
      "\u001b[32mINFO:mindsdb-logger-core-logger---:C:\\Users\\Simran\\anaconda3\\lib\\site-packages\\mindsdb_native\\libs\\phases\\base_module.py:51 - [START] DataExtractor\n",
      "\u001b[0m\n",
      "\u001b[32mINFO:mindsdb-logger-core-logger---:C:\\Users\\Simran\\anaconda3\\lib\\site-packages\\mindsdb_native\\libs\\phases\\base_module.py:56 - [END] DataExtractor, execution time: 0.237 seconds\n",
      "\u001b[0m\n",
      "\u001b[32mINFO:mindsdb-logger-core-logger---:C:\\Users\\Simran\\anaconda3\\lib\\site-packages\\mindsdb_native\\libs\\phases\\base_module.py:51 - [START] DataTransformer\n",
      "\u001b[0m\n",
      "\u001b[32mINFO:mindsdb-logger-core-logger---:C:\\Users\\Simran\\anaconda3\\lib\\site-packages\\mindsdb_native\\libs\\phases\\base_module.py:56 - [END] DataTransformer, execution time: 0.215 seconds\n",
      "\u001b[0m\n",
      "\u001b[32mINFO:mindsdb-logger-core-logger---:C:\\Users\\Simran\\anaconda3\\lib\\site-packages\\mindsdb_native\\libs\\phases\\base_module.py:51 - [START] ModelInterface\n",
      "\u001b[0m\n",
      "INFO:lightwood.8884:Computing device used: cpu\n",
      "INFO:lightwood.8884:Model predictions and decoding completed\n",
      "\u001b[32mINFO:mindsdb-logger-core-logger---:C:\\Users\\Simran\\anaconda3\\lib\\site-packages\\mindsdb_native\\libs\\phases\\base_module.py:56 - [END] ModelInterface, execution time: 5.063 seconds\n",
      "\u001b[0m\n"
     ]
    }
   ],
   "source": [
    "predictions = mdb.predict(when_data=test_data)"
   ]
  },
  {
   "cell_type": "code",
   "execution_count": 9,
   "metadata": {},
   "outputs": [
    {
     "name": "stdout",
     "output_type": "stream",
     "text": [
      "* We are 84.0% confident the value of \"DIAGNOSE\" is ALLERGY\n"
     ]
    }
   ],
   "source": [
    "print(predictions[0])"
   ]
  },
  {
   "cell_type": "code",
   "execution_count": 10,
   "metadata": {},
   "outputs": [],
   "source": [
    "pred_output = [x['DIAGNOSE'] for x in predictions ]\n",
    "real_output = list((test_data)['DIAGNOSE'])"
   ]
  },
  {
   "cell_type": "markdown",
   "metadata": {},
   "source": [
    "### accuracy"
   ]
  },
  {
   "cell_type": "code",
   "execution_count": 11,
   "metadata": {},
   "outputs": [
    {
     "data": {
      "text/plain": [
       "0.9283753992891528"
      ]
     },
     "execution_count": 11,
     "metadata": {},
     "output_type": "execute_result"
    }
   ],
   "source": [
    "accuracy = accuracy_score(real_output, pred_output)\n",
    "accuracy"
   ]
  },
  {
   "cell_type": "markdown",
   "metadata": {},
   "source": [
    "### confusion matrix"
   ]
  },
  {
   "cell_type": "code",
   "execution_count": 12,
   "metadata": {},
   "outputs": [
    {
     "name": "stdout",
     "output_type": "stream",
     "text": [
      "[[ 8065    65    10    27]\n",
      " [  188   267    23    72]\n",
      " [    3     8   521   509]\n",
      " [   46    98   543 11782]]\n"
     ]
    }
   ],
   "source": [
    "cm=confusion_matrix(real_output, pred_output)\n",
    "print(cm)"
   ]
  },
  {
   "cell_type": "code",
   "execution_count": 13,
   "metadata": {},
   "outputs": [],
   "source": [
    "classes=['FLU', 'ALLERGY', 'COVID', 'COLD']"
   ]
  },
  {
   "cell_type": "code",
   "execution_count": null,
   "metadata": {},
   "outputs": [],
   "source": [
    "#visualising confusion matrix\n",
    "sns.heatmap(cm, annot=True,fmt='g',cmap='Blues')\n",
    "width = np.arange(len(classes))\n",
    "plt.xticks(width, classes, rotation=45)\n",
    "plt.yticks(width, classes)\n",
    "plt.xlabel(\"Actual Values\")\n",
    "plt.ylabel(\"Predicted Values\")\n",
    "plt.show()"
   ]
  },
  {
   "cell_type": "markdown",
   "metadata": {},
   "source": [
    "### precision score\n",
    "For the whole model"
   ]
  },
  {
   "cell_type": "code",
   "execution_count": 15,
   "metadata": {},
   "outputs": [
    {
     "name": "stdout",
     "output_type": "stream",
     "text": [
      "0.9277300138173091\n"
     ]
    }
   ],
   "source": [
    "ps=precision_score(real_output, pred_output,average='weighted')\n",
    "print(ps)"
   ]
  },
  {
   "cell_type": "markdown",
   "metadata": {},
   "source": [
    "### recall score\n",
    "For the whole model"
   ]
  },
  {
   "cell_type": "code",
   "execution_count": 16,
   "metadata": {},
   "outputs": [
    {
     "name": "stdout",
     "output_type": "stream",
     "text": [
      "0.9283753992891528\n"
     ]
    }
   ],
   "source": [
    "rs=recall_score(real_output, pred_output,average='weighted')\n",
    "print(rs)"
   ]
  },
  {
   "cell_type": "code",
   "execution_count": 17,
   "metadata": {},
   "outputs": [],
   "source": [
    "precision, recall, fscore, support = score(real_output, pred_output)"
   ]
  },
  {
   "cell_type": "code",
   "execution_count": 18,
   "metadata": {},
   "outputs": [
    {
     "name": "stdout",
     "output_type": "stream",
     "text": [
      "precision: [0.97145266 0.60958904 0.47493163 0.95092817]\n",
      "recall:    [0.98751071 0.48545455 0.50048031 0.94490336]\n",
      "fscore:    [0.97941587 0.54048583 0.48737138 0.94790619]\n",
      "support:   [ 8167   550  1041 12469]\n"
     ]
    }
   ],
   "source": [
    "print('precision: {}'.format(precision))\n",
    "print('recall:    {}'.format(recall))\n",
    "print('fscore:    {}'.format(fscore))\n",
    "print('support:   {}'.format(support))"
   ]
  },
  {
   "cell_type": "code",
   "execution_count": 19,
   "metadata": {},
   "outputs": [
    {
     "data": {
      "text/plain": [
       "(array([0.97145266, 0.60958904, 0.47493163, 0.95092817]),\n",
       " array([0.98751071, 0.48545455, 0.50048031, 0.94490336]),\n",
       " array([0.97941587, 0.54048583, 0.48737138, 0.94790619]),\n",
       " array([ 8167,   550,  1041, 12469], dtype=int64))"
      ]
     },
     "execution_count": 19,
     "metadata": {},
     "output_type": "execute_result"
    }
   ],
   "source": [
    "score(real_output, pred_output,labels=['ALLERGY','COLD', 'COVID', 'FLU'])"
   ]
  }
 ],
 "metadata": {
  "kernelspec": {
   "display_name": "Python 3",
   "language": "python",
   "name": "python3"
  },
  "language_info": {
   "codemirror_mode": {
    "name": "ipython",
    "version": 3
   },
   "file_extension": ".py",
   "mimetype": "text/x-python",
   "name": "python",
   "nbconvert_exporter": "python",
   "pygments_lexer": "ipython3",
   "version": "3.8.3"
  }
 },
 "nbformat": 4,
 "nbformat_minor": 4
}
